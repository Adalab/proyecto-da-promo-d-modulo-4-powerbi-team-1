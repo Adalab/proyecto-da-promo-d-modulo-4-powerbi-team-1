{
 "cells": [
  {
   "cell_type": "code",
   "execution_count": null,
   "id": "2d9c8690",
   "metadata": {},
   "outputs": [],
   "source": [
    "# Para el tratamiento de datos:\n",
    "import pandas as pd\n",
    "import numpy as np\n",
    "from datetime import datetime\n",
    "import re\n",
    "import unicodedata\n",
    "import os\n",
    "pd.set_option('display.max_columns', None) #Para ver todas las columnas\n",
    "from functools import reduce\n",
    "import pycountry\n",
    "from rapidfuzz import process\n",
    "from iso3166 import countries as iso_countries\n",
    "from sklearn.preprocessing import StandardScaler\n",
    "from sklearn.impute import KNNImputer\n"
   ]
  },
  {
   "cell_type": "markdown",
   "id": "e4df8a50",
   "metadata": {},
   "source": [
    "### Paso 1: Carga y visualizacion del csv"
   ]
  },
  {
   "cell_type": "code",
   "execution_count": null,
   "id": "4aa60e7e",
   "metadata": {},
   "outputs": [],
   "source": [
    "df = pd.read_csv(\"final_powerbi_data/worldbank_data_combined.csv\")"
   ]
  },
  {
   "cell_type": "code",
   "execution_count": null,
   "id": "f2df87b5",
   "metadata": {},
   "outputs": [],
   "source": [
    "df.info()"
   ]
  },
  {
   "cell_type": "code",
   "execution_count": null,
   "id": "c0c2ff73",
   "metadata": {},
   "outputs": [],
   "source": [
    "df.head()"
   ]
  },
  {
   "cell_type": "code",
   "execution_count": null,
   "id": "9c16ecbd",
   "metadata": {},
   "outputs": [],
   "source": [
    "#veamos los nombres y el numero de los indicadores\n",
    "print(df[\"Indicator\"].unique())\n",
    "print(df[\"Indicator\"].nunique())\n",
    "\n",
    "# Ver cuántos valores hay por indicador\n",
    "print(df[\"Indicator\"].value_counts())\n",
    "\n",
    "# Ver datos para un año específico\n",
    "df[df[\"Year\"] == 2010].head(10)\n",
    "\n",
    "# Ver datos para un país específico\n",
    "df[df[\"Country\"] == \"Spain\"].head(10)\n",
    "\n"
   ]
  },
  {
   "cell_type": "code",
   "execution_count": null,
   "id": "f7bd16a7",
   "metadata": {},
   "outputs": [],
   "source": [
    "df[df[\"Indicator\"] == 'Gini index']"
   ]
  },
  {
   "cell_type": "markdown",
   "id": "a8c09c45",
   "metadata": {},
   "source": [
    "### Paso 2: Limpieza"
   ]
  },
  {
   "cell_type": "code",
   "execution_count": null,
   "id": "0b92dd50",
   "metadata": {},
   "outputs": [],
   "source": [
    "#Vemos las columnas únicas por indicadores, los años que analizamos y cuantos paises\n",
    "print(\"Indicadores únicos:\")\n",
    "print(df[\"Indicator\"].unique())\n",
    "print(\"Rango de años:\")\n",
    "print(df[\"Year\"].min(), \"a\", df[\"Year\"].max())\n",
    "print(\"Número de países únicos:\", df[\"Country\"].nunique())\n"
   ]
  },
  {
   "cell_type": "code",
   "execution_count": null,
   "id": "b7e27997",
   "metadata": {},
   "outputs": [],
   "source": [
    "#Los nombres de los indicadores son algo dificultosos, vamos a cambiarlos por algo más legible y simple para que sea más facil leer las gráficas despues en powerBi\n",
    "nombres_indicadores = {\n",
    "    'Renewable internal freshwater resources, total (billion cubic meters)': 'Total renewable water (bn m³)',\n",
    "    'Renewable internal freshwater resources per capita (cubic meters)': 'Renewable water per capita (m³)',\n",
    "    'Level of water stress: freshwater withdrawal as a proportion of available freshwater resources': 'Water stress (%)',\n",
    "    'Annual freshwater withdrawals, total (billion cubic meters)': 'Total water withdrawal (bn m³)',\n",
    "    'Annual freshwater withdrawals, domestic (% of total freshwater withdrawal)': 'Domestic use (%)',\n",
    "    'Annual freshwater withdrawals, industry (% of total freshwater withdrawal)': 'Industrial use (%)',\n",
    "    'Annual freshwater withdrawals, agriculture (% of total freshwater withdrawal)': 'Agricultural use (%)',\n",
    "    'Water productivity, total (constant 2015 US$ GDP per cubic meter of total freshwater withdrawal)': 'Water productivity (GDP/m³)',\n",
    "    'People using safely managed drinking water services (% of population)': 'Safe drinking water (%)',\n",
    "    'People using at least basic drinking water services (% of population)': 'Basic drinking water (%)',\n",
    "    'Average precipitation in depth (mm per year)': 'Average rainfall (mm/year)',\n",
    "    'Agricultural irrigated land (% of total agricultural land)': 'Irrigated land (%)',\n",
    "    'Manufacturing, value added (% of GDP)': 'Manufacturing (% GDP)',\n",
    "    'Industry (including construction), value added (% of GDP)': 'Industry (% GDP)',\n",
    "    'Gini index': 'Gini index',\n",
    "    'Poverty headcount ratio at $2.15 a day (2017 PPP) (% of population)': 'Extreme poverty (%)'}\n",
    "\n",
    "df[\"Indicator\"] = df[\"Indicator\"].replace(nombres_indicadores)\n",
    "\n",
    "#verificamos el cambio\n",
    "print(df[\"Indicator\"].nunique())\n",
    "print(df[\"Indicator\"].unique())\n",
    "\n"
   ]
  },
  {
   "cell_type": "code",
   "execution_count": null,
   "id": "66ac89ad",
   "metadata": {},
   "outputs": [],
   "source": [
    "#sacamos los valores unicos de Country\n",
    "print(df[\"Country\"].nunique())\n",
    "print(df[\"Country\"].unique())"
   ]
  },
  {
   "cell_type": "code",
   "execution_count": null,
   "id": "e3a1551f",
   "metadata": {},
   "outputs": [],
   "source": [
    "#recuperamos nuestra super funcion de limpiar y normalizar valores\n",
    "def limpiar_nombres(nombre):\n",
    "    if pd.isnull(nombre):\n",
    "        return nombre\n",
    "    nombre = nombre.strip()\n",
    "    nombre = re.sub(r'[\"\\'].*?[\"\\']', '', nombre)  # quitamos apodos entre comillas\n",
    "    nombre = re.sub(r'\\(.*?\\)', '', nombre)  # quitamos texto entre paréntesis\n",
    "    nombre = re.sub(r\"[-/]\", \" \", nombre)  #quitamos guiones y barras rarunas\n",
    "    nombre = \" \".join(nombre.split())   # quitamos los multiespacios\n",
    "    nombre = unicodedata.normalize(\"NFKD\", nombre).encode(\"ASCII\", \"ignore\").decode(\"utf-8\")  # quitamos acentos y caracteres especiales\n",
    "    return nombre.title()  # formato título\n",
    "\n",
    "\n",
    "#aplicamos la funcion a los valores de la columna \"Country Name\"\n",
    "df[\"Country\"] = df[\"Country\"].apply(limpiar_nombres)\n"
   ]
  },
  {
   "cell_type": "code",
   "execution_count": null,
   "id": "069349ab",
   "metadata": {},
   "outputs": [],
   "source": [
    "# El dataset contiene información tanto de países soberanos como de regiones y agrupaciones económicas.\n",
    "# Para poder quedarnos con el listado de países soberanos vamos a usar la librería iso3166,\n",
    "# que nos facilita todos los países y territorios oficialmente definidos por la métrica ISO3166-1 y su código alpha-3 oficial.\n",
    "# ⚠️ Importante: la ISO no diferencia entre país soberano y territorio dependiente. Ver después para el análisis.\n",
    "\n",
    "# Primero sacamos los países oficiales y no incluir las agrupaciones\n",
    "paises_soberanos = {c.name for c in iso_countries}\n",
    "\n",
    "# Creamos la función usando fuzzy matching que nos ayuda a limpiar nombres de países escritos de forma distinta\n",
    "def normalizar_a_soberano(nombre):\n",
    "    if pd.isnull(nombre):\n",
    "        return None\n",
    "    match, score, _ = process.extractOne(nombre, paises_soberanos)\n",
    "    return match if score > 95 else None\n",
    "\n",
    "# Aplicamos la función para normalizar nombres\n",
    "df[\"Country\"] = df[\"Country\"].apply(normalizar_a_soberano)\n",
    "\n",
    "# Filtramos los nulos resultantes\n",
    "df = df[df[\"Country\"].notnull()]\n",
    "\n",
    "# Al listado de países con los que nos quedamos le pasamos el código alpha-3 para evitar duplicaciones\n",
    "diccionario_name_to_code = {c.name: c.alpha3 for c in iso_countries}\n",
    "\n",
    "#Usamos .loc para evitar SettingWithCopyWarning\n",
    "df.loc[:, \"Country Code\"] = df[\"Country\"].map(diccionario_name_to_code)\n",
    "\n",
    "# Eliminamos duplicados por combinación única de país, indicador y año\n",
    "df = df.drop_duplicates(subset=[\"Country\", \"Indicator\", \"Year\"], keep=\"first\")\n"
   ]
  },
  {
   "cell_type": "code",
   "execution_count": null,
   "id": "d9d52016",
   "metadata": {},
   "outputs": [],
   "source": [
    "#sacamos los valores unicos de Country\n",
    "print(df[\"Country\"].nunique())\n",
    "print(df[\"Country\"].unique())"
   ]
  },
  {
   "cell_type": "code",
   "execution_count": null,
   "id": "7318a7cb",
   "metadata": {},
   "outputs": [],
   "source": [
    "#vemos que aun pasando la iso nos quedan algunas zonas que excluimos manualmente\n",
    "excluir_manual = [\n",
    "    'American Samoa',\n",
    "    'Aruba',\n",
    "    'Bermuda',\n",
    "    'Cayman Islands',\n",
    "    'Faroe Islands',\n",
    "    'French Polynesia',\n",
    "    'Gibraltar',\n",
    "    'Greenland',\n",
    "    'Guam',\n",
    "    'New Caledonia',\n",
    "    'Northern Mariana Islands',\n",
    "    'Puerto Rico',\n",
    "    'Turks and Caicos Islands']\n",
    "\n",
    "df = df[~df[\"Country\"].isin(excluir_manual)]\n",
    "print(f\"Países únicos tras el filtrado: {df['Country'].nunique()}\")\n",
    "print(f\"Países únicos tras el filtrado: {df['Country'].unique()}\")"
   ]
  },
  {
   "cell_type": "code",
   "execution_count": null,
   "id": "dae3ffe1",
   "metadata": {},
   "outputs": [],
   "source": [
    "#verificamos si hay duplicados completos y si hay duplicados con nuestra super combinacion mágica unica\n",
    "print(df.duplicated().sum())\n",
    "df.duplicated(subset=[\"Country\", \"Indicator\", \"Year\"]).sum()\n"
   ]
  },
  {
   "cell_type": "code",
   "execution_count": null,
   "id": "95c9d51c",
   "metadata": {},
   "outputs": [],
   "source": [
    "#Para facilitar la lectura de los gráficos en PowerBi, vamos a agrupar los paises en macro regiones.\n",
    "#asi podremos ver tanto los datos de cada pais como los de su región y sub-región segun escogamos el filtro.\n",
    "\n",
    "#Cargamos el listado de la ONU\n",
    "df_m49 = pd.read_csv(\"raw_worldbank_data/ONU-M49.csv\")\n",
    "\n",
    "df_m49.info()"
   ]
  },
  {
   "cell_type": "code",
   "execution_count": null,
   "id": "849995f0",
   "metadata": {},
   "outputs": [],
   "source": [
    "# Seleccionamos las columnas necesarias\n",
    "df_m49_simple = df_m49[[\"ISO3166-1-Alpha-3\", \"Region Name\", \"Sub-region Name\"]]\n",
    "\n",
    "# Hacemos el merge usando Country Code que es ISO alpha-3 del \n",
    "# nuevo dataset y nepues eliminanos las culumnas no necesarias\n",
    "df = df.merge(df_m49_simple, left_on=\"Country Code\", right_on=\"ISO3166-1-Alpha-3\", how=\"left\")\n",
    "df.drop(columns=[\"ISO3166-1-Alpha-3\"], inplace=True)"
   ]
  },
  {
   "cell_type": "code",
   "execution_count": null,
   "id": "8f68a57e",
   "metadata": {},
   "outputs": [],
   "source": [
    "#ORdenamos las columnas para que tenga más sentido\n",
    "columnas_ordenadas = ['Country', 'Country Code', 'Region Name', 'Sub-region Name', 'Year', 'Indicator', 'Indicator Code', 'Category', 'Value']\n",
    "df = df[columnas_ordenadas]\n"
   ]
  },
  {
   "cell_type": "code",
   "execution_count": null,
   "id": "918a3ab0",
   "metadata": {},
   "outputs": [],
   "source": [
    "df.info()"
   ]
  },
  {
   "cell_type": "code",
   "execution_count": null,
   "id": "8aa5d5f7",
   "metadata": {},
   "outputs": [],
   "source": [
    "#Comprobamos los valores unicos\n",
    "print(\"Valores únicos de 'Region Name':\")\n",
    "print(df[\"Region Name\"].nunique())\n",
    "print(df[\"Region Name\"].unique())\n",
    "print(\"\\nValores únicos de 'Sub-region Name':\")\n",
    "print(df[\"Sub-region Name\"].nunique())\n",
    "print(df[\"Sub-region Name\"].unique())"
   ]
  },
  {
   "cell_type": "code",
   "execution_count": null,
   "id": "76afb6b2",
   "metadata": {},
   "outputs": [],
   "source": [
    "#vemos las estadisticas basicas\n",
    "df.groupby(\"Indicator\")[\"Value\"].describe().round(2)\n"
   ]
  },
  {
   "cell_type": "code",
   "execution_count": null,
   "id": "3adcf608",
   "metadata": {},
   "outputs": [],
   "source": [
    "#water stress deberia estar entre 0 y 10, debe haberse producido un error de unidad, limitamos el valor a 100\n",
    "df.loc[(df[\"Indicator\"] == \"Water stress (%)\") & (df[\"Value\"] > 100), \"Value\"] = 100\n"
   ]
  },
  {
   "cell_type": "code",
   "execution_count": null,
   "id": "b650ec9c",
   "metadata": {},
   "outputs": [],
   "source": [
    "### PASO 3: Gestion de nulos"
   ]
  },
  {
   "cell_type": "code",
   "execution_count": null,
   "id": "eefc2312",
   "metadata": {},
   "outputs": [],
   "source": [
    "#vemos los datos nulos\n",
    "total = len(df)\n",
    "nulos_df = pd.DataFrame({\n",
    "    'Nulos': df.isnull().sum(),\n",
    "    'Porcentaje': (df.isnull().sum() / total * 100).round(2)}).sort_values(by='Nulos', ascending=False)\n",
    "print(\"Nulos y porcentaje por columna:\")\n",
    "print(nulos_df)"
   ]
  },
  {
   "cell_type": "code",
   "execution_count": null,
   "id": "3d0cd0ad",
   "metadata": {},
   "outputs": [],
   "source": [
    "paises_nan_region = df[df[\"Region Name\"].isnull()][\"Country\"].unique()\n",
    "print(\"Países sin región asignada:\")\n",
    "print(paises_nan_region)\n"
   ]
  },
  {
   "cell_type": "code",
   "execution_count": null,
   "id": "2e9d0e7c",
   "metadata": {},
   "outputs": [],
   "source": [
    "#Kosovo no tiene un reconocimiento unanimo como pais soberano por parte de otros paises, por lo que no tiene region en los listados internacionales como la M49.\n",
    "#Lo imputamos manualmente y comprobamos.\n",
    "df.loc[df[\"Country\"] == \"Kosovo\", [\"Region Name\", \"Sub-region Name\"]] = [\"Europe\", \"Southern Europe\"]\n",
    "print(df[[\"Region Name\", \"Sub-region Name\"]].isnull().sum())\n",
    "\n"
   ]
  },
  {
   "cell_type": "code",
   "execution_count": null,
   "id": "b8c9b085",
   "metadata": {},
   "outputs": [],
   "source": [
    "#para ubicar donde estan los valores nulos vamos a sacar el numero de nulos por indicador y por pais.\n",
    "nulos_indicador = df[df[\"Value\"].isnull()].groupby(\"Indicator\")[\"Country\"].nunique().sort_values(ascending=False)\n",
    "print(\"numero países con nulos por indicador:\", nulos_indicador)\n",
    "\n",
    "nulos_pais = df[df[\"Value\"].isnull()].groupby(\"Country\")[\"Indicator\"].nunique().sort_values(ascending=False)\n",
    "print(\"\\nnumero indicadores con nulos por pais:\", nulos_pais)\n"
   ]
  },
  {
   "cell_type": "code",
   "execution_count": null,
   "id": "99d759e3",
   "metadata": {},
   "outputs": [],
   "source": [
    "#tambien vemos que hay 3 indicadores (Irrigated land, Extreme poverty y Gini index) de los que casi la totalidad de los paises no tienen datos, por lo que tambien pasamos a eliminarlos.\n",
    "indicadores_a_eliminar = [\"Irrigated land (%)\", \"Extreme poverty (%)\", \"Gini index\"]\n",
    "df = df[~df[\"Indicator\"].isin(indicadores_a_eliminar)]\n"
   ]
  },
  {
   "cell_type": "code",
   "execution_count": null,
   "id": "4ebedf72",
   "metadata": {},
   "outputs": [],
   "source": [
    "#vemos que hay paises que no tienendatos en ninguno de los indicadores, por lo que no nos sirven para el analisis y los eliminamos\n",
    "paises_todos_nulos = df[df[\"Value\"].isnull()].groupby(\"Country\")[\"Indicator\"].nunique()\n",
    "paises_sin_datos = paises_todos_nulos[paises_todos_nulos == df[\"Indicator\"].nunique()].index\n",
    "df = df[~df[\"Country\"].isin(paises_sin_datos)]"
   ]
  },
  {
   "cell_type": "code",
   "execution_count": null,
   "id": "b483694f",
   "metadata": {},
   "outputs": [],
   "source": [
    "#vemos de nuevo los datos nulos\n",
    "total = len(df)\n",
    "nulos_df = pd.DataFrame({\n",
    "    'Nulos': df.isnull().sum(),\n",
    "    'Porcentaje': (df.isnull().sum() / total * 100).round(2)}).sort_values(by='Nulos', ascending=False)\n",
    "print(\"Nulos y porcentaje por columna:\")\n",
    "print(nulos_df)"
   ]
  },
  {
   "cell_type": "code",
   "execution_count": null,
   "id": "bf003bfc",
   "metadata": {},
   "outputs": [],
   "source": [
    "df.info()"
   ]
  },
  {
   "cell_type": "code",
   "execution_count": null,
   "id": "ff9c5d26",
   "metadata": {},
   "outputs": [],
   "source": [
    "df.sample(10)"
   ]
  },
  {
   "cell_type": "markdown",
   "id": "6a663172",
   "metadata": {},
   "source": [
    "tenemos un 11% de nulos que viene directamente desde la fuente, que es el Banco Mundial la que nos da los datos oficiales. La ausencia de iertos datos no se trata de un error, si no que nos da a entender que algo paso en ese momento para que no se pudieran obtener los datos: conflictos armados, crisis institucionales, falta de recursos, cambio de regimen y censura,...........\n",
    "Imputar esos datos pueden llevarnos a maquillar el contexto geopolitico. Se abre el debate de imputar los nulos o no?\n",
    "Imputar esos datos en estos contextos puede resultar engañoso o poco ético pues la falta de esos valores ya en si es informacion.\n",
    "Por contrario si queremos ver las tendencias y facilitar los gráficos en powerbi, creo que se debe imputar con tecnicas avanzadas."
   ]
  },
  {
   "cell_type": "code",
   "execution_count": null,
   "id": "d4c1fb6c",
   "metadata": {},
   "outputs": [],
   "source": [
    "#guardamos el dataframe limpio\n",
    "#os.makedirs(\"final_powerbi_data\", exist_ok=True)\n",
    "#output_path = \"final_powerbi_data/clean_final_data.csv\"\n",
    "#df.to_csv(output_path, index=False)\n",
    "#print(f\"Archivo guardado correctamente en: {output_path}\")"
   ]
  },
  {
   "cell_type": "markdown",
   "id": "362f2055",
   "metadata": {},
   "source": [
    "Frente a este conflicto ético, hemos guardado un CSV limpio y sin imputar, con una gestion de los datos estricta. Dado que nuestro interes mayoritario es hacer gráficas y ver las tendencias y patrones decicimos utilizar un metodo de imputacion avazanda para completar ese porcentaje de nulos."
   ]
  },
  {
   "cell_type": "code",
   "execution_count": null,
   "id": "cc6c42c5",
   "metadata": {},
   "outputs": [],
   "source": [
    "df.groupby(\"Indicator\")[\"Value\"].describe().round(2)"
   ]
  },
  {
   "cell_type": "code",
   "execution_count": null,
   "id": "f3780da7",
   "metadata": {},
   "outputs": [],
   "source": [
    "\n",
    "# 1. Pivoteamos a formato ancho (indicadores como columnas)\n",
    "df_wide = df.pivot_table(index=[\"Country\", \"Year\"], columns=\"Indicator\", values=\"Value\")\n",
    "\n",
    "# 2. Guardamos medias y desviaciones para desescalar después\n",
    "means = df_wide.mean()\n",
    "stds = df_wide.std()\n",
    "\n",
    "# 3. Escalamos para que KNN funcione correctamente\n",
    "scaler = StandardScaler()\n",
    "df_scaled = scaler.fit_transform(df_wide)\n",
    "\n",
    "# 4. Aplicamos imputación con KNN\n",
    "imputer = KNNImputer(n_neighbors=10)\n",
    "df_imputed_scaled = imputer.fit_transform(df_scaled)\n",
    "\n",
    "# 5. Desescalamos manualmente para volver a la escala original\n",
    "df_imputed = pd.DataFrame(df_imputed_scaled, index=df_wide.index, columns=df_wide.columns)\n",
    "df_imputed = df_imputed * stds + means\n",
    "\n",
    "# 6. Restablecemos índice para convertir Country y Year en columnas\n",
    "df_imputed = df_imputed.reset_index()\n",
    "\n",
    "# 7. Añadimos columnas auxiliares: código de país, región, subregión\n",
    "columnas_auxiliares = [\n",
    "    \"Country\", \"Country Code\", \"Region Name\", \"Sub-region Name\"\n",
    "]\n",
    "df_aux = df[columnas_auxiliares].drop_duplicates()\n",
    "\n",
    "# 8. Hacemos el merge\n",
    "df_imputed = df_imputed.merge(df_aux, on=\"Country\", how=\"left\")\n",
    "\n",
    "# 9. Reordenamos columnas para dejarlo bonito\n",
    "columnas_indicadores = [col for col in df_imputed.columns if col not in columnas_auxiliares + [\"Year\"]]\n",
    "df_imputed = df_imputed[[\"Country\", \"Country Code\", \"Region Name\", \"Sub-region Name\", \"Year\"] + columnas_indicadores]\n",
    "\n"
   ]
  },
  {
   "cell_type": "code",
   "execution_count": null,
   "id": "f088345b",
   "metadata": {},
   "outputs": [],
   "source": [
    "df_imputed.info()"
   ]
  },
  {
   "cell_type": "code",
   "execution_count": null,
   "id": "e28dfed2",
   "metadata": {},
   "outputs": [],
   "source": [
    "df_imputed.describe().round(2)"
   ]
  },
  {
   "cell_type": "code",
   "execution_count": null,
   "id": "dc5dc98e",
   "metadata": {},
   "outputs": [],
   "source": [
    "#arreglamos los pequeños desajustes que se han producido tras la imputacion\n",
    "vars_no_negativos = [\n",
    "    \"Agricultural use (%)\", \"Domestic use (%)\", \"Industrial use (%)\",\n",
    "    \"Renewable water per capita (m³)\", \"Total renewable water (bn m³)\",\n",
    "    \"Total water withdrawal (bn m³)\", \"Water productivity (GDP/m³)\"]\n",
    "for col in vars_no_negativos:\n",
    "    df_imputed.loc[df_imputed[col] < 0, col] = 0\n",
    "\n",
    "# Recortar al 100% los indicadores que no pueden pasar ese límite\n",
    "vars_max_100 = [\n",
    "    \"Water stress (%)\", \"Basic drinking water (%)\", \"Safe drinking water (%)\",\n",
    "    \"Agricultural use (%)\", \"Industrial use (%)\", \"Domestic use (%)\"\n",
    "]\n",
    "for col in vars_max_100:\n",
    "    df_imputed.loc[df_imputed[col] > 100, col] = 100\n"
   ]
  },
  {
   "cell_type": "code",
   "execution_count": null,
   "id": "b89f2157",
   "metadata": {},
   "outputs": [],
   "source": [
    "df_imputed.describe().round(2)"
   ]
  },
  {
   "cell_type": "code",
   "execution_count": null,
   "id": "29c98281",
   "metadata": {},
   "outputs": [],
   "source": [
    "#guardamos el archivo sin nulos\n",
    "os.makedirs(\"final_powerbi_data\", exist_ok=True)\n",
    "output_path = \"final_powerbi_data/water_data_wide.csv\"\n",
    "df_imputed.to_csv(output_path, index=False)\n",
    "print(f\"Archivo final guardado en: {output_path}\")"
   ]
  }
 ],
 "metadata": {
  "kernelspec": {
   "display_name": "base",
   "language": "python",
   "name": "python3"
  },
  "language_info": {
   "codemirror_mode": {
    "name": "ipython",
    "version": 3
   },
   "file_extension": ".py",
   "mimetype": "text/x-python",
   "name": "python",
   "nbconvert_exporter": "python",
   "pygments_lexer": "ipython3",
   "version": "3.12.7"
  }
 },
 "nbformat": 4,
 "nbformat_minor": 5
}
